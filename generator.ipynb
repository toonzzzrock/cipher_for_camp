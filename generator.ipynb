{
 "cells": [
  {
   "cell_type": "code",
   "execution_count": 6,
   "id": "aca9036b",
   "metadata": {},
   "outputs": [
    {
     "name": "stdout",
     "output_type": "stream",
     "text": [
      "26\n"
     ]
    }
   ],
   "source": [
    "import random\n",
    "\n",
    "text = \"\"\"This is the message that will be encrypted.\n",
    "It is a secret message that only the intended recipient should be able to read.\n",
    "The encryption method used is a simple substitution cipher.\n",
    "The key for the cipher is a randomly generated string of characters.\n",
    "The key is used to map each letter of the alphabet to a different letter.\n",
    "The real message is for the commander of the army.\n",
    "The commander is a brave and fearless leader.\n",
    "The commander has a difficult task ahead of him.\n",
    "He must lead his troops into battle against a formidable enemy.\n",
    "The enemy is well-prepared and has a strong position.\n",
    "The commander must use all of his skills and experience to outsmart the enemy.\n",
    "The commander has a loyal and dedicated team of soldiers.\n",
    "Even though the odds are against them, they are determined to succeed.\n",
    "The soldiers are well-trained and ready for action.\n",
    "The soldiers trust their commander and will follow him into battle.\n",
    "The war will begin at dawn.\n",
    "Quickly, the soldiers will gather their weapons and supplies.\n",
    "The soldiers will be ready to fight.\n",
    "The commander will give the order to attack when the time is right.\n",
    "At the zero hour, the soldiers will be in position.\n",
    "No jargons will be used.\n",
    "The commander will give the signal to start the battle.\n",
    "The soldiers will advance towards the enemy lines.\n",
    "The soldiers will fight bravely and with honor, battle from the north to the south.\n",
    "The commander will lead them to victory.\n",
    "\"\"\"\n",
    "\n",
    "print(len(set(filter(lambda x: x.isalpha(), text.lower()))))"
   ]
  },
  {
   "cell_type": "code",
   "execution_count": null,
   "id": "fb9841b3",
   "metadata": {},
   "outputs": [
    {
     "name": "stdout",
     "output_type": "stream",
     "text": [
      "Encryption and decryption successful!\n"
     ]
    }
   ],
   "source": [
    "random.seed(42)\n",
    "alphabet = \"abcdefghijklmnopqrstuvwxyz\"\n",
    "key: str = \"\".join(random.sample(alphabet, len(alphabet)))\n",
    "\n",
    "\n",
    "def encrypt(text, key):\n",
    "    encrypted_text = []\n",
    "    for char in text:\n",
    "        if char.isalpha():\n",
    "            index = alphabet.index(char.lower())\n",
    "            new_char = key[index]\n",
    "            if char.isupper():\n",
    "                new_char = new_char.upper()\n",
    "            encrypted_text.append(new_char)\n",
    "        else:\n",
    "            encrypted_text.append(char)\n",
    "    return \"\".join(encrypted_text)\n",
    "\n",
    "\n",
    "def decrypt(text, key):\n",
    "    decrypted_text = []\n",
    "    for char in text:\n",
    "        if char.isalpha():\n",
    "            index = key.index(char.lower())\n",
    "            new_char = alphabet[index]\n",
    "            if char.isupper():\n",
    "                new_char = new_char.upper()\n",
    "            decrypted_text.append(new_char)\n",
    "        else:\n",
    "            decrypted_text.append(char)\n",
    "    return \"\".join(decrypted_text)\n",
    "\n",
    "\n",
    "encrypted_message = encrypt(text, key)\n",
    "decrypted_message = decrypt(encrypted_message, key)\n",
    "if decrypted_message == text:\n",
    "    print(\"Encryption and decryption successful!\")\n",
    "else:\n",
    "    print(\"Encryption and decryption failed!\")\n",
    "    print(\"Original message:\", text)\n",
    "    print(\"Encrypted message:\", encrypted_message)\n",
    "    print(\"Decrypted message:\", decrypted_message)"
   ]
  },
  {
   "cell_type": "code",
   "execution_count": 9,
   "id": "febb9123",
   "metadata": {},
   "outputs": [
    {
     "name": "stdout",
     "output_type": "stream",
     "text": [
      "Fyrk rk fyh ohkkueh fyuf zrxx dh hbapmlfhi.\n",
      "Rf rk u khaphf ohkkueh fyuf sbxm fyh rbfhbihi pharlrhbf kysgxi dh udxh fs phui.\n",
      "Fyh hbapmlfrsb ohfysi gkhi rk u krolxh kgdkfrfgfrsb arlyhp.\n",
      "Fyh nhm vsp fyh arlyhp rk u pubisoxm ehbhpufhi kfprbe sv ayupuafhpk.\n",
      "Fyh nhm rk gkhi fs oul huay xhffhp sv fyh uxlyudhf fs u irvvhphbf xhffhp.\n",
      "Fyh phux ohkkueh rk vsp fyh asooubihp sv fyh upom.\n",
      "Fyh asooubihp rk u dputh ubi vhupxhkk xhuihp.\n",
      "Fyh asooubihp yuk u irvvragxf fukn uyhui sv yro.\n",
      "Yh ogkf xhui yrk fpsslk rbfs duffxh ueurbkf u vsporiudxh hbhom.\n",
      "Fyh hbhom rk zhxx-lphluphi ubi yuk u kfpsbe lskrfrsb.\n",
      "Fyh asooubihp ogkf gkh uxx sv yrk knrxxk ubi hjlhprhbah fs sgfkoupf fyh hbhom.\n",
      "Fyh asooubihp yuk u xsmux ubi ihiraufhi fhuo sv ksxirhpk.\n",
      "Hthb fysgey fyh siik uph ueurbkf fyho, fyhm uph ihfhporbhi fs kgaahhi.\n",
      "Fyh ksxirhpk uph zhxx-fpurbhi ubi phuim vsp uafrsb.\n",
      "Fyh ksxirhpk fpgkf fyhrp asooubihp ubi zrxx vsxxsz yro rbfs duffxh.\n",
      "Fyh zup zrxx dherb uf iuzb.\n",
      "Fyh ksxirhpk zrxx dh phuim fs vreyf.\n",
      "Fyh asooubihp zrxx erth fyh spihp fs uffuan zyhb fyh froh rk preyf.\n",
      "Fyh ksxirhpk zrxx vreyf dputhxm ubi zrfy ysbsp, duffxh vpso fyh bspfy fs fyh ksgfy.\n",
      "Fyh asooubihp zrxx xhui fyho fs trafspm.\n",
      "\n"
     ]
    }
   ],
   "source": [
    "print(encrypted_message)"
   ]
  },
  {
   "cell_type": "code",
   "execution_count": null,
   "id": "b794cb15",
   "metadata": {},
   "outputs": [],
   "source": []
  }
 ],
 "metadata": {
  "kernelspec": {
   "display_name": "Python 3",
   "language": "python",
   "name": "python3"
  },
  "language_info": {
   "codemirror_mode": {
    "name": "ipython",
    "version": 3
   },
   "file_extension": ".py",
   "mimetype": "text/x-python",
   "name": "python",
   "nbconvert_exporter": "python",
   "pygments_lexer": "ipython3",
   "version": "3.10.11"
  }
 },
 "nbformat": 4,
 "nbformat_minor": 5
}
