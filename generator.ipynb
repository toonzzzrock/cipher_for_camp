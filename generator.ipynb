{
 "cells": [
  {
   "cell_type": "code",
   "execution_count": null,
   "id": "fb9841b3",
   "metadata": {},
   "outputs": [
    {
     "name": "stdout",
     "output_type": "stream",
     "text": [
      "Encryption and decryption successful!\n"
     ]
    }
   ],
   "source": [
    "random.seed(42)\n",
    "alphabet = \"abcdefghijklmnopqrstuvwxyz\"\n",
    "key: str = \"\".join(random.sample(alphabet, len(alphabet)))\n",
    "\n",
    "\n",
    "def encrypt(text, key):\n",
    "    encrypted_text = []\n",
    "    for char in text:\n",
    "        if char.isalpha():\n",
    "            index = alphabet.index(char.lower())\n",
    "            new_char = key[index]\n",
    "            if char.isupper():\n",
    "                new_char = new_char.upper()\n",
    "            encrypted_text.append(new_char)\n",
    "        else:\n",
    "            encrypted_text.append(char)\n",
    "    return \"\".join(encrypted_text)\n",
    "\n",
    "\n",
    "def decrypt(text, key):\n",
    "    decrypted_text = []\n",
    "    for char in text:\n",
    "        if char.isalpha():\n",
    "            index = key.index(char.lower())\n",
    "            new_char = alphabet[index]\n",
    "            if char.isupper():\n",
    "                new_char = new_char.upper()\n",
    "            decrypted_text.append(new_char)\n",
    "        else:\n",
    "            decrypted_text.append(char)\n",
    "    return \"\".join(decrypted_text)\n",
    "\n",
    "\n",
    "encrypted_message = encrypt(text, key)\n",
    "decrypted_message = decrypt(encrypted_message, key)\n",
    "if decrypted_message == text:\n",
    "    print(\"Encryption and decryption successful!\")\n",
    "else:\n",
    "    print(\"Encryption and decryption failed!\")\n",
    "    print(\"Original message:\", text)\n",
    "    print(\"Encrypted message:\", encrypted_message)\n",
    "    print(\"Decrypted message:\", decrypted_message)"
   ]
  },
  {
   "cell_type": "markdown",
   "id": "77ccd4d3",
   "metadata": {},
   "source": [
    "# Hard mode\n"
   ]
  },
  {
   "cell_type": "code",
   "execution_count": 2,
   "id": "a04f0b69",
   "metadata": {},
   "outputs": [
    {
     "name": "stdout",
     "output_type": "stream",
     "text": [
      "Encryption and decryption successful!\n"
     ]
    }
   ],
   "source": [
    "random.seed(84)\n",
    "alphabet = \"abcdefghijklmnopqrstuvwxyz\"\n",
    "key: str = \"\".join(random.sample(alphabet, len(alphabet)))\n",
    "\n",
    "\n",
    "def encrypt(text, key):\n",
    "    encrypted_text = []\n",
    "    for char in text:\n",
    "        if char.isalpha():\n",
    "            index = alphabet.index(char.lower())\n",
    "            new_char = key[index]\n",
    "            if char.isupper():\n",
    "                new_char = new_char.upper()\n",
    "            encrypted_text.append(new_char)\n",
    "        else:\n",
    "            encrypted_text.append(char)\n",
    "    return \"\".join(encrypted_text)\n",
    "\n",
    "\n",
    "def decrypt(text, key):\n",
    "    decrypted_text = []\n",
    "    for char in text:\n",
    "        if char.isalpha():\n",
    "            index = key.index(char.lower())\n",
    "            new_char = alphabet[index]\n",
    "            if char.isupper():\n",
    "                new_char = new_char.upper()\n",
    "            decrypted_text.append(new_char)\n",
    "        else:\n",
    "            decrypted_text.append(char)\n",
    "    return \"\".join(decrypted_text)\n",
    "\n",
    "\n",
    "encrypted_message = encrypt(text, key)\n",
    "decrypted_message = decrypt(encrypted_message, key)\n",
    "if decrypted_message == text:\n",
    "    print(\"Encryption and decryption successful!\")\n",
    "else:\n",
    "    print(\"Encryption and decryption failed!\")\n",
    "    print(\"Original message:\", text)\n",
    "    print(\"Encrypted message:\", encrypted_message)\n",
    "    print(\"Decrypted message:\", decrypted_message)"
   ]
  },
  {
   "cell_type": "code",
   "execution_count": 4,
   "id": "1f0f1baf",
   "metadata": {},
   "outputs": [
    {
     "data": {
      "text/plain": [
       "'xjbpaqkgowlyciuemhsfntzvdr'"
      ]
     },
     "execution_count": 4,
     "metadata": {},
     "output_type": "execute_result"
    }
   ],
   "source": [
    "key"
   ]
  },
  {
   "cell_type": "code",
   "execution_count": 5,
   "id": "3d829856",
   "metadata": {},
   "outputs": [],
   "source": [
    "test_key= {\n",
    "                'a': 'e', 'b': 'c', 'c': 'm', 'd': 'y', 'e': 'p', 'f': 't',\n",
    "                'g': 'h', 'h': 'r', 'i': 'n', 'j': 'b', 'k': 'g', 'l': 'k',\n",
    "                'm': 'q', 'n': 'u', 'o': 'i', 'p': 'd', 'q': 'f', 'r': 'z',\n",
    "                's': 's', 't': 'v', 'u': 'o', 'v': 'x', 'w': 'j', 'x': 'a',\n",
    "                'y': 'l', 'z': 'w'\n",
    "            }"
   ]
  },
  {
   "cell_type": "code",
   "execution_count": 7,
   "id": "1dd417fd",
   "metadata": {},
   "outputs": [
    {
     "name": "stdout",
     "output_type": "stream",
     "text": [
      "Key mapping: a -> x\n",
      "Key mapping: b -> j\n",
      "Key mapping: c -> b\n",
      "Key mapping: d -> p\n",
      "Key mapping: e -> a\n",
      "Key mapping: f -> q\n",
      "Key mapping: g -> k\n",
      "Key mapping: h -> g\n",
      "Key mapping: i -> o\n",
      "Key mapping: j -> w\n",
      "Key mapping: k -> l\n",
      "Key mapping: l -> y\n",
      "Key mapping: m -> c\n",
      "Key mapping: n -> i\n",
      "Key mapping: o -> u\n",
      "Key mapping: p -> e\n",
      "Key mapping: q -> m\n",
      "Key mapping: r -> h\n",
      "Key mapping: s -> s\n",
      "Key mapping: t -> f\n",
      "Key mapping: u -> n\n",
      "Key mapping: v -> t\n",
      "Key mapping: w -> z\n",
      "Key mapping: x -> v\n",
      "Key mapping: y -> d\n",
      "Key mapping: z -> r\n"
     ]
    }
   ],
   "source": [
    "for char, k in zip(alphabet, key):\n",
    "    if test_key[k] == char:\n",
    "        print(f\"Key mapping: {char} -> {k}\")\n",
    "    else:\n",
    "        print(f\"Key mapping failed: {char} -> {k} (expected {test_key[k]})\")"
   ]
  }
 ],
 "metadata": {
  "language_info": {
   "name": "python"
  }
 },
 "nbformat": 4,
 "nbformat_minor": 5
}
